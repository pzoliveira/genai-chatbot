{
  "cells": [
    {
      "cell_type": "markdown",
      "metadata": {
        "id": "view-in-github",
        "colab_type": "text"
      },
      "source": [
        "<a href=\"https://colab.research.google.com/github/pzoliveira/genai-chatbot/blob/main/Imersao_Alura_Aula_04_chatbot.ipynb\" target=\"_parent\"><img src=\"https://colab.research.google.com/assets/colab-badge.svg\" alt=\"Open In Colab\"/></a>"
      ]
    },
    {
      "cell_type": "code",
      "execution_count": 1,
      "metadata": {
        "colab": {
          "base_uri": "https://localhost:8080/"
        },
        "id": "nFQLKQ6hfXch",
        "outputId": "c62369a1-b457-42cd-cd98-d2b2badc929a"
      },
      "outputs": [
        {
          "output_type": "stream",
          "name": "stdout",
          "text": [
            "\u001b[?25l     \u001b[90m━━━━━━━━━━━━━━━━━━━━━━━━━━━━━━━━━━━━━━━━\u001b[0m \u001b[32m0.0/150.7 kB\u001b[0m \u001b[31m?\u001b[0m eta \u001b[36m-:--:--\u001b[0m\r\u001b[2K     \u001b[91m━━━━━━━━━━━━━━━━━━━━━━━━━━━━━━━━━━━━━━\u001b[0m\u001b[90m╺\u001b[0m\u001b[90m━\u001b[0m \u001b[32m143.4/150.7 kB\u001b[0m \u001b[31m5.2 MB/s\u001b[0m eta \u001b[36m0:00:01\u001b[0m\r\u001b[2K     \u001b[90m━━━━━━━━━━━━━━━━━━━━━━━━━━━━━━━━━━━━━━━━\u001b[0m \u001b[32m150.7/150.7 kB\u001b[0m \u001b[31m3.3 MB/s\u001b[0m eta \u001b[36m0:00:00\u001b[0m\n",
            "\u001b[?25h\u001b[?25l     \u001b[90m━━━━━━━━━━━━━━━━━━━━━━━━━━━━━━━━━━━━━━━━\u001b[0m \u001b[32m0.0/679.1 kB\u001b[0m \u001b[31m?\u001b[0m eta \u001b[36m-:--:--\u001b[0m\r\u001b[2K     \u001b[91m━━━━━━━━━━━━━━━━━━━━━━━━━━━━━━━\u001b[0m\u001b[90m╺\u001b[0m\u001b[90m━━━━━━━━\u001b[0m \u001b[32m532.5/679.1 kB\u001b[0m \u001b[31m15.4 MB/s\u001b[0m eta \u001b[36m0:00:01\u001b[0m\r\u001b[2K     \u001b[90m━━━━━━━━━━━━━━━━━━━━━━━━━━━━━━━━━━━━━━━━\u001b[0m \u001b[32m679.1/679.1 kB\u001b[0m \u001b[31m12.2 MB/s\u001b[0m eta \u001b[36m0:00:00\u001b[0m\n",
            "\u001b[?25h"
          ]
        }
      ],
      "source": [
        "#Instalando o SDK do Google\n",
        "!pip install -q -U google-generativeai"
      ]
    },
    {
      "cell_type": "code",
      "execution_count": 7,
      "metadata": {
        "id": "IthzwfnAfcsi"
      },
      "outputs": [],
      "source": [
        "#Configurações iniciais\n",
        "import google.generativeai as genai\n",
        "\n",
        "from google.colab import userdata\n",
        "\n",
        "GOOGLE_API_KEY = userdata.get('GOOGLE_API_KEY')\n",
        "genai.configure(api_key=GOOGLE_API_KEY)"
      ]
    },
    {
      "cell_type": "code",
      "execution_count": 8,
      "metadata": {
        "colab": {
          "base_uri": "https://localhost:8080/",
          "height": 156
        },
        "id": "iD3ihugymWBt",
        "outputId": "817bc822-d4e1-4ef6-ee79-4221137d9260"
      },
      "outputs": [
        {
          "output_type": "stream",
          "name": "stdout",
          "text": [
            "models/gemini-1.0-pro\n",
            "models/gemini-1.0-pro-001\n",
            "models/gemini-1.0-pro-latest\n",
            "models/gemini-1.0-pro-vision-latest\n",
            "models/gemini-1.5-flash-latest\n",
            "models/gemini-1.5-pro-latest\n",
            "models/gemini-pro\n",
            "models/gemini-pro-vision\n"
          ]
        }
      ],
      "source": [
        "#Listando os modelos disponíveis\n",
        "for m in genai.list_models():\n",
        "  if 'generateContent' in m.supported_generation_methods:\n",
        "    print(m.name)"
      ]
    },
    {
      "cell_type": "code",
      "execution_count": 9,
      "metadata": {
        "id": "O1ochaeyDn_o"
      },
      "outputs": [],
      "source": [
        "generation_config = {\n",
        "  \"candidate_count\": 1,\n",
        "  \"temperature\": 0.5,\n",
        "}"
      ]
    },
    {
      "cell_type": "code",
      "execution_count": 10,
      "metadata": {
        "id": "jwBv7DofDofw"
      },
      "outputs": [],
      "source": [
        "safety_settings={\n",
        "    'HATE': 'BLOCK_NONE',\n",
        "    'HARASSMENT': 'BLOCK_NONE',\n",
        "    'SEXUAL' : 'BLOCK_NONE',\n",
        "    'DANGEROUS' : 'BLOCK_NONE'\n",
        "    }"
      ]
    },
    {
      "cell_type": "code",
      "execution_count": 11,
      "metadata": {
        "id": "NIiSs1R5mVJE"
      },
      "outputs": [],
      "source": [
        "model = genai.GenerativeModel(model_name='gemini-1.0-pro',\n",
        "                                  generation_config=generation_config,\n",
        "                                  safety_settings=safety_settings,)"
      ]
    },
    {
      "cell_type": "code",
      "execution_count": 12,
      "metadata": {
        "colab": {
          "base_uri": "https://localhost:8080/",
          "height": 35
        },
        "id": "vrRjhT2rlrU_",
        "outputId": "272e04de-dc95-4641-df49-587643f42902"
      },
      "outputs": [
        {
          "output_type": "execute_result",
          "data": {
            "text/plain": [
              "'Google'"
            ],
            "application/vnd.google.colaboratory.intrinsic+json": {
              "type": "string"
            }
          },
          "metadata": {},
          "execution_count": 12
        }
      ],
      "source": [
        "response = model.generate_content(\"Que empresa criou o modelo de IA Gemini?\")\n",
        "response.text"
      ]
    },
    {
      "cell_type": "code",
      "execution_count": 13,
      "metadata": {
        "colab": {
          "base_uri": "https://localhost:8080/",
          "height": 193
        },
        "id": "KpaQ6hm5f2_J",
        "outputId": "f8bef74a-993b-429b-bb7d-3adebf58d17d"
      },
      "outputs": [
        {
          "name": "stdout",
          "output_type": "stream",
          "text": [
            "Esperando prompt: Aja como um professor de história. Conte em três parágrafos, de cerca de 50 palavras cada um, a história de formação da Espanha após o império romano.\n",
            "Resposta: Após a queda do Império Romano Ocidental no século V, a Península Ibérica foi invadida por vários povos germânicos, incluindo os visigodos. Os visigodos estabeleceram um reino que abrangia a maior parte da Espanha moderna, mas foi dividido em vários reinos menores após a invasão muçulmana no século VIII.\n",
            "\n",
            "Os muçulmanos estabeleceram um emirado em Córdoba e governaram a maior parte da Espanha por vários séculos. Durante este período, a Espanha experimentou uma era de prosperidade e avanços culturais. No entanto, a Reconquista, uma série de campanhas militares lideradas por reinos cristãos do norte, começou no século XI e gradualmente reconquistou o território da Península Ibérica do domínio muçulmano.\n",
            "\n",
            "Em 1492, a Reconquista foi concluída com a conquista do Reino de Granada. A Espanha foi unificada sob os Reis Católicos, Fernando e Isabel, que também patrocinaram a exploração do Novo Mundo. A Espanha tornou-se um império global, mas o seu poder diminuiu gradualmente nos séculos seguintes. \n",
            "\n",
            "\n",
            "Esperando prompt: fim\n"
          ]
        }
      ],
      "source": [
        "chat = model.start_chat(history=[])\n",
        "\n",
        "prompt = input('Esperando prompt: ')\n",
        "\n",
        "while prompt != \"fim\":\n",
        "  response = chat.send_message(prompt)\n",
        "  print(\"Resposta:\", response.text, '\\n\\n')\n",
        "  prompt = input('Esperando prompt: ')"
      ]
    },
    {
      "cell_type": "code",
      "execution_count": 14,
      "metadata": {
        "id": "XLAniTTDhHNW",
        "colab": {
          "base_uri": "https://localhost:8080/"
        },
        "outputId": "51ea5d8a-0ce1-4b09-bc3f-3434c7294522"
      },
      "outputs": [
        {
          "output_type": "execute_result",
          "data": {
            "text/plain": [
              "ChatSession(\n",
              "    model=genai.GenerativeModel(\n",
              "        model_name='models/gemini-1.0-pro',\n",
              "        generation_config={'candidate_count': 1, 'temperature': 0.5},\n",
              "        safety_settings={<HarmCategory.HARM_CATEGORY_HATE_SPEECH: 8>: <HarmBlockThreshold.BLOCK_NONE: 4>, <HarmCategory.HARM_CATEGORY_HARASSMENT: 7>: <HarmBlockThreshold.BLOCK_NONE: 4>, <HarmCategory.HARM_CATEGORY_SEXUALLY_EXPLICIT: 9>: <HarmBlockThreshold.BLOCK_NONE: 4>, <HarmCategory.HARM_CATEGORY_DANGEROUS_CONTENT: 10>: <HarmBlockThreshold.BLOCK_NONE: 4>},\n",
              "        tools=None,\n",
              "        system_instruction=None,\n",
              "    ),\n",
              "    history=[glm.Content({'parts': [{'text': 'Aja como um ...pério romano.'}], 'role': 'user'}), glm.Content({'parts': [{'text': 'Após a queda...os seguintes.'}], 'role': 'model'})]\n",
              ")"
            ]
          },
          "metadata": {},
          "execution_count": 14
        }
      ],
      "source": [
        "chat"
      ]
    },
    {
      "cell_type": "code",
      "execution_count": 15,
      "metadata": {
        "id": "sd8mvW9KghTf",
        "colab": {
          "base_uri": "https://localhost:8080/"
        },
        "outputId": "5d6654ca-4acc-480a-b614-baface53004f"
      },
      "outputs": [
        {
          "output_type": "execute_result",
          "data": {
            "text/plain": [
              "[parts {\n",
              "   text: \"Aja como um professor de hist\\303\\263ria. Conte em tr\\303\\252s par\\303\\241grafos, de cerca de 50 palavras cada um, a hist\\303\\263ria de forma\\303\\247\\303\\243o da Espanha ap\\303\\263s o imp\\303\\251rio romano.\"\n",
              " }\n",
              " role: \"user\",\n",
              " parts {\n",
              "   text: \"Ap\\303\\263s a queda do Imp\\303\\251rio Romano Ocidental no s\\303\\251culo V, a Pen\\303\\255nsula Ib\\303\\251rica foi invadida por v\\303\\241rios povos germ\\303\\242nicos, incluindo os visigodos. Os visigodos estabeleceram um reino que abrangia a maior parte da Espanha moderna, mas foi dividido em v\\303\\241rios reinos menores ap\\303\\263s a invas\\303\\243o mu\\303\\247ulmana no s\\303\\251culo VIII.\\n\\nOs mu\\303\\247ulmanos estabeleceram um emirado em C\\303\\263rdoba e governaram a maior parte da Espanha por v\\303\\241rios s\\303\\251culos. Durante este per\\303\\255odo, a Espanha experimentou uma era de prosperidade e avan\\303\\247os culturais. No entanto, a Reconquista, uma s\\303\\251rie de campanhas militares lideradas por reinos crist\\303\\243os do norte, come\\303\\247ou no s\\303\\251culo XI e gradualmente reconquistou o territ\\303\\263rio da Pen\\303\\255nsula Ib\\303\\251rica do dom\\303\\255nio mu\\303\\247ulmano.\\n\\nEm 1492, a Reconquista foi conclu\\303\\255da com a conquista do Reino de Granada. A Espanha foi unificada sob os Reis Cat\\303\\263licos, Fernando e Isabel, que tamb\\303\\251m patrocinaram a explora\\303\\247\\303\\243o do Novo Mundo. A Espanha tornou-se um imp\\303\\251rio global, mas o seu poder diminuiu gradualmente nos s\\303\\251culos seguintes.\"\n",
              " }\n",
              " role: \"model\"]"
            ]
          },
          "metadata": {},
          "execution_count": 15
        }
      ],
      "source": [
        "chat.history"
      ]
    },
    {
      "cell_type": "code",
      "execution_count": 16,
      "metadata": {
        "id": "dAcbPBocgzeX",
        "colab": {
          "base_uri": "https://localhost:8080/",
          "height": 311
        },
        "outputId": "debb1c89-6a61-482c-9b27-a9b85c5abd4d"
      },
      "outputs": [
        {
          "output_type": "display_data",
          "data": {
            "text/plain": [
              "<IPython.core.display.Markdown object>"
            ],
            "text/markdown": "> **user**: Aja como um professor de história. Conte em três parágrafos, de cerca de 50 palavras cada um, a história de formação da Espanha após o império romano."
          },
          "metadata": {}
        },
        {
          "output_type": "stream",
          "name": "stdout",
          "text": [
            "-------------------------------------------\n"
          ]
        },
        {
          "output_type": "display_data",
          "data": {
            "text/plain": [
              "<IPython.core.display.Markdown object>"
            ],
            "text/markdown": "> **model**: Após a queda do Império Romano Ocidental no século V, a Península Ibérica foi invadida por vários povos germânicos, incluindo os visigodos. Os visigodos estabeleceram um reino que abrangia a maior parte da Espanha moderna, mas foi dividido em vários reinos menores após a invasão muçulmana no século VIII.\n> \n> Os muçulmanos estabeleceram um emirado em Córdoba e governaram a maior parte da Espanha por vários séculos. Durante este período, a Espanha experimentou uma era de prosperidade e avanços culturais. No entanto, a Reconquista, uma série de campanhas militares lideradas por reinos cristãos do norte, começou no século XI e gradualmente reconquistou o território da Península Ibérica do domínio muçulmano.\n> \n> Em 1492, a Reconquista foi concluída com a conquista do Reino de Granada. A Espanha foi unificada sob os Reis Católicos, Fernando e Isabel, que também patrocinaram a exploração do Novo Mundo. A Espanha tornou-se um império global, mas o seu poder diminuiu gradualmente nos séculos seguintes."
          },
          "metadata": {}
        },
        {
          "output_type": "stream",
          "name": "stdout",
          "text": [
            "-------------------------------------------\n"
          ]
        }
      ],
      "source": [
        "#Melhorando a visualização\n",
        "#Código disponível em https://ai.google.dev/tutorials/python_quickstart#import_packages\n",
        "import textwrap\n",
        "from IPython.display import display\n",
        "from IPython.display import Markdown\n",
        "\n",
        "def to_markdown(text):\n",
        "  text = text.replace('•', '  *')\n",
        "  return Markdown(textwrap.indent(text, '> ', predicate=lambda _: True))\n",
        "\n",
        "#Imprimindo o histórico\n",
        "for message in chat.history:\n",
        "  display(to_markdown(f'**{message.role}**: {message.parts[0].text}'))\n",
        "  print('-------------------------------------------')"
      ]
    }
  ],
  "metadata": {
    "colab": {
      "provenance": [],
      "include_colab_link": true
    },
    "kernelspec": {
      "display_name": "Python 3",
      "name": "python3"
    },
    "language_info": {
      "name": "python"
    }
  },
  "nbformat": 4,
  "nbformat_minor": 0
}